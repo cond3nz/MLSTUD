{
 "cells": [
  {
   "cell_type": "markdown",
   "metadata": {},
   "source": [
    "### Упражнения ДЗ 1\n",
    "**Задание 1**. Создайте двумерный массив по  12 элементов с помощью `np.arange()` и `np.reshape()`. Выведите основные атрибуты массива.\n"
   ]
  },
  {
   "cell_type": "code",
   "execution_count": 24,
   "metadata": {},
   "outputs": [
    {
     "name": "stdout",
     "output_type": "stream",
     "text": [
      "[[ 0  1  2  3  4  5  6  7  8  9 10 11]\n",
      " [12 13 14 15 16 17 18 19 20 21 22 23]]\n",
      "2\n",
      "(2, 12)\n",
      "24\n"
     ]
    }
   ],
   "source": [
    "import numpy as np\n",
    "a=np.arange(12*2)\n",
    "a=a.reshape(2,12)\n",
    "print(a)\n",
    "print(a.ndim)\n",
    "print(a.shape)\n",
    "print(a.size)\n"
   ]
  },
  {
   "cell_type": "markdown",
   "metadata": {},
   "source": [
    "**Задание 2**. Выведите последний элемент первой строки, а затем третий по счету столбец.\n"
   ]
  },
  {
   "cell_type": "code",
   "execution_count": 25,
   "metadata": {},
   "outputs": [
    {
     "name": "stdout",
     "output_type": "stream",
     "text": [
      "11\n",
      "[ 2 14]\n"
     ]
    }
   ],
   "source": [
    "print(a[0,-1])\n",
    "print(a[:,2])\n"
   ]
  },
  {
   "cell_type": "markdown",
   "metadata": {},
   "source": [
    "**Задание 3**. Найдите средние значения вдоль последней оси массива.\n",
    "\n",
    "Подсказка: используйте метод `.mean()`\n"
   ]
  },
  {
   "cell_type": "code",
   "execution_count": 26,
   "metadata": {},
   "outputs": [
    {
     "data": {
      "text/plain": [
       "array([ 5.5, 17.5])"
      ]
     },
     "execution_count": 26,
     "metadata": {},
     "output_type": "execute_result"
    }
   ],
   "source": [
    "a.mean(axis=-1)\n"
   ]
  },
  {
   "cell_type": "markdown",
   "metadata": {},
   "source": [
    "**Задание 4**. Замените первые два элемента второй строки и весь последний столбец на значение 1.\n"
   ]
  },
  {
   "cell_type": "code",
   "execution_count": 27,
   "metadata": {},
   "outputs": [
    {
     "name": "stdout",
     "output_type": "stream",
     "text": [
      "[[ 0  1  2  3  4  5  6  7  8  9 10  1]\n",
      " [ 1  1 14 15 16 17 18 19 20 21 22  1]]\n"
     ]
    }
   ],
   "source": [
    "a[1,(0,1)]=1\n",
    "a[:,-1]=1\n",
    "print(a)\n"
   ]
  },
  {
   "cell_type": "markdown",
   "metadata": {},
   "source": [
    "**Задание 5**. Отсортируйте первую строку массива от большего к меньшему значению.\n"
   ]
  },
  {
   "cell_type": "code",
   "execution_count": 28,
   "metadata": {},
   "outputs": [
    {
     "name": "stdout",
     "output_type": "stream",
     "text": [
      "[10  9  8  7  6  5  4  3  2  1  1  0]\n"
     ]
    }
   ],
   "source": [
    "a=np.sort(a[0])[::-1]\n",
    "print(a)\n"
   ]
  },
  {
   "cell_type": "markdown",
   "metadata": {},
   "source": [
    "**Задание 6**. Преобразуйте массив в квадратную матрицу 4 x 4.\n"
   ]
  },
  {
   "cell_type": "code",
   "execution_count": 29,
   "metadata": {},
   "outputs": [
    {
     "name": "stdout",
     "output_type": "stream",
     "text": [
      "[[10  9  8  7]\n",
      " [ 6  5  4  3]\n",
      " [ 2  1  1  0]\n",
      " [10  9  8  7]]\n"
     ]
    }
   ],
   "source": [
    "a=np.resize(a,(4,4))\n",
    "print(a)\n"
   ]
  },
  {
   "cell_type": "markdown",
   "metadata": {},
   "source": [
    "**Задание 7**. Используйте Boolean mask или masked array и опустите значения, которые больше шести.\n"
   ]
  },
  {
   "cell_type": "code",
   "execution_count": 30,
   "metadata": {},
   "outputs": [
    {
     "name": "stdout",
     "output_type": "stream",
     "text": [
      "[6 5 4 3 2 1 1 0]\n",
      "[[0 0 0 0]\n",
      " [6 5 4 3]\n",
      " [2 1 1 0]\n",
      " [0 0 0 0]]\n"
     ]
    }
   ],
   "source": [
    "print(a[a<=6])\n",
    "a[a>6]=0\n",
    "print(a)\n"
   ]
  },
  {
   "cell_type": "markdown",
   "metadata": {},
   "source": [
    "### Упражнения ДЗ 2\n",
    "**Задание 1**. Возьмите массив ниже и разделите его на два без остатка.\n",
    "\n",
    "Подсказка: используйте оператор целочисленного деления.\n"
   ]
  },
  {
   "cell_type": "code",
   "execution_count": 31,
   "metadata": {},
   "outputs": [
    {
     "data": {
      "text/plain": [
       "array([[ 6.,  4., 11.],\n",
       "       [ 6.,  8., 10.]])"
      ]
     },
     "execution_count": 31,
     "metadata": {},
     "output_type": "execute_result"
    }
   ],
   "source": [
    "\n",
    "arr = np.array([[12.5, 8.3, 22.5],\n",
    "                [13, 17, 20]])\n",
    "arr // 2\n"
   ]
  },
  {
   "cell_type": "markdown",
   "metadata": {},
   "source": [
    "**Задание 2**. Ниже даны два массива. Сравните их поэлементно, а также в целом проверьте одинаковые это массивы или нет.\n",
    "\n",
    "Подсказка: для второй части задания используйте функцию `np.array_equal()`.\n"
   ]
  },
  {
   "cell_type": "code",
   "execution_count": 32,
   "metadata": {},
   "outputs": [
    {
     "name": "stdout",
     "output_type": "stream",
     "text": [
      "[ True  True False]\n"
     ]
    },
    {
     "data": {
      "text/plain": [
       "False"
      ]
     },
     "execution_count": 32,
     "metadata": {},
     "output_type": "execute_result"
    }
   ],
   "source": [
    "c = np.array([3, 4, 4])\n",
    "d = np.array([3, 4, 5])\n",
    "print(c==d)\n",
    "np.array_equal(c,d)\n"
   ]
  },
  {
   "cell_type": "markdown",
   "metadata": {},
   "source": [
    "**Задание 3**. Используя исключающее ИЛИ (`np.logical_xor()`), оцените выражение, при котором элемент массива **c** больше или равен трем, а элемент массива **d** больше или равен четырем. Проверьте полученный результат по таблице истинности.\n"
   ]
  },
  {
   "cell_type": "code",
   "execution_count": 33,
   "metadata": {},
   "outputs": [
    {
     "data": {
      "text/plain": [
       "array([ True, False, False])"
      ]
     },
     "execution_count": 33,
     "metadata": {},
     "output_type": "execute_result"
    }
   ],
   "source": [
    "np.logical_xor(c>=3,d>=4)\n"
   ]
  },
  {
   "cell_type": "markdown",
   "metadata": {},
   "source": [
    "**Задание 4**. Представим, что в массиве ниже записаны оценки, полученные на экзамене. С помощью функции `np.where()` создайте новый массив, в котором будет записано \"Зачет\", если соответствующее значение в исходном массиве больше либо равно трем, в противном случае должно быть записано \"Незачет\".\n",
    "\n",
    "Подсказка: слова \"Зачет\" и \"Незачет\" не обязательно преобразовывать в списки той же длины, что и список с оценками, можно просто вписать их вторыи и третьим параметрами в функцию `np.where()`.\n"
   ]
  },
  {
   "cell_type": "code",
   "execution_count": 34,
   "metadata": {},
   "outputs": [
    {
     "data": {
      "text/plain": [
       "array(['Зачет', 'Незачет', 'Зачет', 'Зачет', 'Зачет', 'Незачет'],\n",
       "      dtype='<U7')"
      ]
     },
     "execution_count": 34,
     "metadata": {},
     "output_type": "execute_result"
    }
   ],
   "source": [
    "scores = np.array([3, 2, 4, 5, 5, 2])\n",
    "np.where(scores>=3,\"Зачет\",\"Незачет\")\n"
   ]
  },
  {
   "cell_type": "markdown",
   "metadata": {},
   "source": [
    "**Задание 5**. Ниже приведены матрица 4 x 3 и вектор 3 x 1. Какой вектор или матрицу (объект какой размерности) мы получим при их скалярном произведении? Напишите программу вычисления результата.\n"
   ]
  },
  {
   "cell_type": "code",
   "execution_count": 35,
   "metadata": {},
   "outputs": [
    {
     "name": "stdout",
     "output_type": "stream",
     "text": [
      "[[14]\n",
      " [11]\n",
      " [28]\n",
      " [11]] \n",
      " (4, 1)\n"
     ]
    }
   ],
   "source": [
    "A = np.array([[2, 3, 4],\n",
    "              [3, 2, 1],\n",
    "              [9, 4, 2],\n",
    "              [2, 3, 1]])\n",
    "\n",
    "x = np.array([[2],\n",
    "              [2],\n",
    "              [1]])\n",
    "res = np.dot(A,x)\n",
    "print(res,\"\\n\", res.shape)\n"
   ]
  },
  {
   "cell_type": "markdown",
   "metadata": {},
   "source": [
    "**Задание 6**. Даны две матрицы C и D. (1) Возможно ли скалярное умножение матрицы C на D? Если нет, объясните почему. (2) Что можно сделать, чтобы умножение C на D стало возможным?\n",
    "\n",
    "Подсказка: в матрице D превратите строки в столбцы.\n"
   ]
  },
  {
   "cell_type": "code",
   "execution_count": 36,
   "metadata": {},
   "outputs": [
    {
     "data": {
      "text/plain": [
       "array([[20, 10],\n",
       "       [20, 10]])"
      ]
     },
     "execution_count": 36,
     "metadata": {},
     "output_type": "execute_result"
    }
   ],
   "source": [
    "C = np.array([[1, 2, 3],\n",
    "    [1, 2, 3]])\n",
    "\n",
    "D = np.array([[2, 3, 4],\n",
    "    [3, 2, 1]])\n",
    "\n",
    "#(1)Размертность строк в C не равно размерности столбцов в D, (2) Транспонировать D\n",
    "np.dot(C,D.T)\n"
   ]
  },
  {
   "cell_type": "markdown",
   "metadata": {},
   "source": [
    "**Задание 7**. Возьмите матрицы из предыдущего упражнения. Умножьте эти матрицы вдоль первой оси каждой из них (axes = (1, 1)), используя функцию `np.tensordot()`. Объясните, почему вы получили тот же результат, что и во второй части предыдущего упражнения.\n"
   ]
  },
  {
   "cell_type": "code",
   "execution_count": 37,
   "metadata": {},
   "outputs": [
    {
     "data": {
      "text/plain": [
       "array([[20, 10],\n",
       "       [20, 10]])"
      ]
     },
     "execution_count": 37,
     "metadata": {},
     "output_type": "execute_result"
    }
   ],
   "source": [
    "np.tensordot(C,D,axes=(1,1))\n",
    "#Скалярное произведение - произведение вокруг последней оси 1-й матрицы и предпоследней оси второй, при транспонировании оси меняются местами.\n"
   ]
  },
  {
   "cell_type": "markdown",
   "metadata": {},
   "source": [
    "**Задание 8**. Продолжаем работать с матрицами C и D. Получите тот же результат скалярного произведения, что и в двух предыдущих заданиях, но на этот раз используя функцию `np.einsum()`.\n",
    "\n",
    "Подсказка: обозначьте оси матриц C и D буквами i, j и k; умножение будет происходить вдоль той оси, буквенное обозначение которой повторяется в обеих частях условия первого параметра функции `np.einsum()`.\n"
   ]
  },
  {
   "cell_type": "code",
   "execution_count": 38,
   "metadata": {},
   "outputs": [
    {
     "data": {
      "text/plain": [
       "array([[20, 10],\n",
       "       [20, 10]])"
      ]
     },
     "execution_count": 38,
     "metadata": {},
     "output_type": "execute_result"
    }
   ],
   "source": [
    "np.einsum('ij,kj -> ik',C,D)\n"
   ]
  },
  {
   "cell_type": "markdown",
   "metadata": {},
   "source": [
    "**Задание 9**. (1) Создайте нулевую матрицу размером 4 x 4. (2) Заполните ее главную диагональ единицами. (3) Теперь создайте единичную матрицу такого же размера и проверьте равны ли получившиеся матрицы с помощью функции `np.array_equal()`.\n"
   ]
  },
  {
   "cell_type": "code",
   "execution_count": 39,
   "metadata": {},
   "outputs": [
    {
     "data": {
      "text/plain": [
       "True"
      ]
     },
     "execution_count": 39,
     "metadata": {},
     "output_type": "execute_result"
    }
   ],
   "source": [
    "a=np.zeros((4,4))\n",
    "np.fill_diagonal(a,1)\n",
    "b=np.eye(4)\n",
    "np.array_equal(a,b)\n"
   ]
  },
  {
   "cell_type": "markdown",
   "metadata": {},
   "source": [
    "**Задание 10**. Ниже дана система линейных уравнений $AX = B$. Решите ее с помощью Питона, зная что $X = A^{-1}B$.\n",
    "$$\n",
    "\\left\\{\n",
    "    \\begin{matrix}\n",
    "    4x  + 3y = 20 \\\\\n",
    "    -5x + 9y = 26\n",
    "    \\end{matrix}\n",
    "\\right.\n",
    "$$\n"
   ]
  },
  {
   "cell_type": "code",
   "execution_count": 40,
   "metadata": {},
   "outputs": [
    {
     "data": {
      "text/plain": [
       "array([[2.],\n",
       "       [4.]])"
      ]
     },
     "execution_count": 40,
     "metadata": {},
     "output_type": "execute_result"
    }
   ],
   "source": [
    "A = np.array([[4, 3],\n",
    "    [-5, 9]])\n",
    "\n",
    "B = np.array([[20],\n",
    "    [26]])\n",
    "\n",
    "X=np.linalg.inv(A).dot(B)\n",
    "X"
   ]
  }
 ],
 "metadata": {
  "kernelspec": {
   "display_name": "Python 3 (ipykernel)",
   "language": "python",
   "name": "python3"
  },
  "language_info": {
   "codemirror_mode": {
    "name": "ipython",
    "version": 3
   },
   "file_extension": ".py",
   "mimetype": "text/x-python",
   "name": "python",
   "nbconvert_exporter": "python",
   "pygments_lexer": "ipython3",
   "version": "3.10.7"
  },
  "vscode": {
   "interpreter": {
    "hash": "e7370f93d1d0cde622a1f8e1c04877d8463912d04d973331ad4851f04de6915a"
   }
  }
 },
 "nbformat": 4,
 "nbformat_minor": 2
}
